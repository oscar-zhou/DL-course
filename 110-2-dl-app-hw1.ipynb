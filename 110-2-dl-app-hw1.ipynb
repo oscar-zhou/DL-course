{
 "cells": [
  {
   "cell_type": "code",
   "execution_count": 1,
   "id": "cba3fd81",
   "metadata": {
    "_cell_guid": "b1076dfc-b9ad-4769-8c92-a6c4dae69d19",
    "_uuid": "8f2839f25d086af736a60e9eeb907d3b93b6e0e5",
    "execution": {
     "iopub.execute_input": "2022-03-07T15:41:33.206494Z",
     "iopub.status.busy": "2022-03-07T15:41:33.205012Z",
     "iopub.status.idle": "2022-03-07T15:41:38.395062Z",
     "shell.execute_reply": "2022-03-07T15:41:38.394366Z",
     "shell.execute_reply.started": "2022-03-07T15:33:37.752137Z"
    },
    "papermill": {
     "duration": 5.20508,
     "end_time": "2022-03-07T15:41:38.395230",
     "exception": false,
     "start_time": "2022-03-07T15:41:33.190150",
     "status": "completed"
    },
    "tags": []
   },
   "outputs": [],
   "source": [
    "import numpy as np\n",
    "from tensorflow.keras import models\n",
    "from tensorflow.keras import layers\n",
    "from tensorflow.keras.utils import to_categorical\n",
    "import tensorflow as tf"
   ]
  },
  {
   "cell_type": "code",
   "execution_count": 2,
   "id": "423a5127",
   "metadata": {
    "execution": {
     "iopub.execute_input": "2022-03-07T15:41:38.420666Z",
     "iopub.status.busy": "2022-03-07T15:41:38.419850Z",
     "iopub.status.idle": "2022-03-07T15:41:38.421910Z",
     "shell.execute_reply": "2022-03-07T15:41:38.422287Z",
     "shell.execute_reply.started": "2022-03-07T15:33:43.066370Z"
    },
    "papermill": {
     "duration": 0.016169,
     "end_time": "2022-03-07T15:41:38.422410",
     "exception": false,
     "start_time": "2022-03-07T15:41:38.406241",
     "status": "completed"
    },
    "tags": []
   },
   "outputs": [],
   "source": [
    "# Input data files are available in the \"/kaggle/input/110-1-ntut-dl-app-hw1/\" directory.\n",
    "# DATA_DIR = '/kaggle/input/ntutemnist/'\n",
    "TRAIN_DATA_FILE = 'emnist-byclass-train.npz'\n",
    "TEST_DATA_FILE = 'emnist-byclass-test.npz'"
   ]
  },
  {
   "cell_type": "code",
   "execution_count": 3,
   "id": "70ce4c2d",
   "metadata": {
    "execution": {
     "iopub.execute_input": "2022-03-07T15:41:38.445663Z",
     "iopub.status.busy": "2022-03-07T15:41:38.445180Z",
     "iopub.status.idle": "2022-03-07T15:41:48.769687Z",
     "shell.execute_reply": "2022-03-07T15:41:48.769166Z",
     "shell.execute_reply.started": "2022-03-07T15:33:43.076699Z"
    },
    "papermill": {
     "duration": 10.337571,
     "end_time": "2022-03-07T15:41:48.769859",
     "exception": false,
     "start_time": "2022-03-07T15:41:38.432288",
     "status": "completed"
    },
    "tags": []
   },
   "outputs": [],
   "source": [
    "# Load training data\n",
    "data = np.load(TRAIN_DATA_FILE)\n",
    "train_labels = data['training_labels']\n",
    "train_images = data['training_images']"
   ]
  },
  {
   "cell_type": "code",
   "execution_count": 4,
   "id": "d7238e6c",
   "metadata": {},
   "outputs": [
    {
     "data": {
      "text/plain": [
       "array([[35],\n",
       "       [36],\n",
       "       [ 6],\n",
       "       ...,\n",
       "       [ 5],\n",
       "       [11],\n",
       "       [22]], dtype=uint8)"
      ]
     },
     "execution_count": 4,
     "metadata": {},
     "output_type": "execute_result"
    }
   ],
   "source": [
    "train_labels"
   ]
  },
  {
   "cell_type": "code",
   "execution_count": 5,
   "id": "26fe3342",
   "metadata": {
    "execution": {
     "iopub.execute_input": "2022-03-07T15:41:48.795807Z",
     "iopub.status.busy": "2022-03-07T15:41:48.794678Z",
     "iopub.status.idle": "2022-03-07T15:41:49.905391Z",
     "shell.execute_reply": "2022-03-07T15:41:49.906498Z",
     "shell.execute_reply.started": "2022-03-07T15:33:52.271429Z"
    },
    "papermill": {
     "duration": 1.126376,
     "end_time": "2022-03-07T15:41:49.906707",
     "exception": false,
     "start_time": "2022-03-07T15:41:48.780331",
     "status": "completed"
    },
    "tags": []
   },
   "outputs": [],
   "source": [
    "trn_images = train_images.reshape((train_images.shape[0], 28 * 28))\n",
    "trn_images = trn_images.astype('float32') / 255\n",
    "trn_labels = to_categorical(train_labels)"
   ]
  },
  {
   "cell_type": "code",
   "execution_count": 6,
   "id": "51a70f42",
   "metadata": {},
   "outputs": [],
   "source": [
    "leaky_relu = tf.keras.layers.LeakyReLU(alpha=0.3)\n",
    "\n"
   ]
  },
  {
   "cell_type": "code",
   "execution_count": 7,
   "id": "521f0f5f",
   "metadata": {
    "execution": {
     "iopub.execute_input": "2022-03-07T15:41:49.949689Z",
     "iopub.status.busy": "2022-03-07T15:41:49.948924Z",
     "iopub.status.idle": "2022-03-07T15:41:52.434409Z",
     "shell.execute_reply": "2022-03-07T15:41:52.433983Z",
     "shell.execute_reply.started": "2022-03-07T15:33:53.341019Z"
    },
    "papermill": {
     "duration": 2.51158,
     "end_time": "2022-03-07T15:41:52.434528",
     "exception": false,
     "start_time": "2022-03-07T15:41:49.922948",
     "status": "completed"
    },
    "tags": []
   },
   "outputs": [
    {
     "name": "stderr",
     "output_type": "stream",
     "text": [
      "2023-03-11 10:50:05.789007: I tensorflow/stream_executor/platform/default/dso_loader.cc:44] Successfully opened dynamic library libcuda.so.1\n",
      "2023-03-11 10:50:05.886817: I tensorflow/core/common_runtime/gpu/gpu_device.cc:1618] Found device 0 with properties: \n",
      "name: Tesla T4 major: 7 minor: 5 memoryClockRate(GHz): 1.59\n",
      "pciBusID: 0000:12:00.0\n",
      "2023-03-11 10:50:05.887572: I tensorflow/core/common_runtime/gpu/gpu_device.cc:1618] Found device 1 with properties: \n",
      "name: Tesla T4 major: 7 minor: 5 memoryClockRate(GHz): 1.59\n",
      "pciBusID: 0000:37:00.0\n",
      "2023-03-11 10:50:05.888273: I tensorflow/core/common_runtime/gpu/gpu_device.cc:1618] Found device 2 with properties: \n",
      "name: Tesla T4 major: 7 minor: 5 memoryClockRate(GHz): 1.59\n",
      "pciBusID: 0000:86:00.0\n",
      "2023-03-11 10:50:05.888972: I tensorflow/core/common_runtime/gpu/gpu_device.cc:1618] Found device 3 with properties: \n",
      "name: Tesla T4 major: 7 minor: 5 memoryClockRate(GHz): 1.59\n",
      "pciBusID: 0000:af:00.0\n",
      "2023-03-11 10:50:05.889152: I tensorflow/stream_executor/platform/default/dso_loader.cc:44] Successfully opened dynamic library libcudart.so.10.0\n",
      "2023-03-11 10:50:05.890287: I tensorflow/stream_executor/platform/default/dso_loader.cc:44] Successfully opened dynamic library libcublas.so.10.0\n",
      "2023-03-11 10:50:05.891492: I tensorflow/stream_executor/platform/default/dso_loader.cc:44] Successfully opened dynamic library libcufft.so.10.0\n",
      "2023-03-11 10:50:05.891735: I tensorflow/stream_executor/platform/default/dso_loader.cc:44] Successfully opened dynamic library libcurand.so.10.0\n",
      "2023-03-11 10:50:05.893043: I tensorflow/stream_executor/platform/default/dso_loader.cc:44] Successfully opened dynamic library libcusolver.so.10.0\n",
      "2023-03-11 10:50:05.894160: I tensorflow/stream_executor/platform/default/dso_loader.cc:44] Successfully opened dynamic library libcusparse.so.10.0\n",
      "2023-03-11 10:50:05.897536: I tensorflow/stream_executor/platform/default/dso_loader.cc:44] Successfully opened dynamic library libcudnn.so.7\n",
      "2023-03-11 10:50:05.903119: I tensorflow/core/common_runtime/gpu/gpu_device.cc:1746] Adding visible gpu devices: 0, 1, 2, 3\n",
      "2023-03-11 10:50:05.903433: I tensorflow/core/platform/cpu_feature_guard.cc:142] Your CPU supports instructions that this TensorFlow binary was not compiled to use: SSE4.1 SSE4.2 AVX AVX2 AVX512F FMA\n",
      "2023-03-11 10:50:05.913956: I tensorflow/core/platform/profile_utils/cpu_utils.cc:94] CPU Frequency: 2500000000 Hz\n",
      "2023-03-11 10:50:05.915706: I tensorflow/compiler/xla/service/service.cc:168] XLA service 0x556a270a4340 executing computations on platform Host. Devices:\n",
      "2023-03-11 10:50:05.915727: I tensorflow/compiler/xla/service/service.cc:175]   StreamExecutor device (0): Host, Default Version\n",
      "2023-03-11 10:50:06.300021: I tensorflow/compiler/xla/service/service.cc:168] XLA service 0x556a297dd400 executing computations on platform CUDA. Devices:\n",
      "2023-03-11 10:50:06.300060: I tensorflow/compiler/xla/service/service.cc:175]   StreamExecutor device (0): Tesla T4, Compute Capability 7.5\n",
      "2023-03-11 10:50:06.300069: I tensorflow/compiler/xla/service/service.cc:175]   StreamExecutor device (1): Tesla T4, Compute Capability 7.5\n",
      "2023-03-11 10:50:06.300077: I tensorflow/compiler/xla/service/service.cc:175]   StreamExecutor device (2): Tesla T4, Compute Capability 7.5\n",
      "2023-03-11 10:50:06.300084: I tensorflow/compiler/xla/service/service.cc:175]   StreamExecutor device (3): Tesla T4, Compute Capability 7.5\n",
      "2023-03-11 10:50:06.311320: I tensorflow/core/common_runtime/gpu/gpu_device.cc:1618] Found device 0 with properties: \n",
      "name: Tesla T4 major: 7 minor: 5 memoryClockRate(GHz): 1.59\n",
      "pciBusID: 0000:12:00.0\n",
      "2023-03-11 10:50:06.312281: I tensorflow/core/common_runtime/gpu/gpu_device.cc:1618] Found device 1 with properties: \n",
      "name: Tesla T4 major: 7 minor: 5 memoryClockRate(GHz): 1.59\n",
      "pciBusID: 0000:37:00.0\n",
      "2023-03-11 10:50:06.313210: I tensorflow/core/common_runtime/gpu/gpu_device.cc:1618] Found device 2 with properties: \n",
      "name: Tesla T4 major: 7 minor: 5 memoryClockRate(GHz): 1.59\n",
      "pciBusID: 0000:86:00.0\n",
      "2023-03-11 10:50:06.314146: I tensorflow/core/common_runtime/gpu/gpu_device.cc:1618] Found device 3 with properties: \n",
      "name: Tesla T4 major: 7 minor: 5 memoryClockRate(GHz): 1.59\n",
      "pciBusID: 0000:af:00.0\n",
      "2023-03-11 10:50:06.314191: I tensorflow/stream_executor/platform/default/dso_loader.cc:44] Successfully opened dynamic library libcudart.so.10.0\n",
      "2023-03-11 10:50:06.314207: I tensorflow/stream_executor/platform/default/dso_loader.cc:44] Successfully opened dynamic library libcublas.so.10.0\n",
      "2023-03-11 10:50:06.314220: I tensorflow/stream_executor/platform/default/dso_loader.cc:44] Successfully opened dynamic library libcufft.so.10.0\n",
      "2023-03-11 10:50:06.314232: I tensorflow/stream_executor/platform/default/dso_loader.cc:44] Successfully opened dynamic library libcurand.so.10.0\n",
      "2023-03-11 10:50:06.314244: I tensorflow/stream_executor/platform/default/dso_loader.cc:44] Successfully opened dynamic library libcusolver.so.10.0\n",
      "2023-03-11 10:50:06.314255: I tensorflow/stream_executor/platform/default/dso_loader.cc:44] Successfully opened dynamic library libcusparse.so.10.0\n",
      "2023-03-11 10:50:06.314268: I tensorflow/stream_executor/platform/default/dso_loader.cc:44] Successfully opened dynamic library libcudnn.so.7\n",
      "2023-03-11 10:50:06.319530: I tensorflow/core/common_runtime/gpu/gpu_device.cc:1746] Adding visible gpu devices: 0, 1, 2, 3\n",
      "2023-03-11 10:50:06.319564: I tensorflow/stream_executor/platform/default/dso_loader.cc:44] Successfully opened dynamic library libcudart.so.10.0\n",
      "2023-03-11 10:50:06.322662: I tensorflow/core/common_runtime/gpu/gpu_device.cc:1159] Device interconnect StreamExecutor with strength 1 edge matrix:\n",
      "2023-03-11 10:50:06.322676: I tensorflow/core/common_runtime/gpu/gpu_device.cc:1165]      0 1 2 3 \n",
      "2023-03-11 10:50:06.322680: I tensorflow/core/common_runtime/gpu/gpu_device.cc:1178] 0:   N Y Y Y \n",
      "2023-03-11 10:50:06.322683: I tensorflow/core/common_runtime/gpu/gpu_device.cc:1178] 1:   Y N Y Y \n",
      "2023-03-11 10:50:06.322686: I tensorflow/core/common_runtime/gpu/gpu_device.cc:1178] 2:   Y Y N Y \n",
      "2023-03-11 10:50:06.322690: I tensorflow/core/common_runtime/gpu/gpu_device.cc:1178] 3:   Y Y Y N \n",
      "2023-03-11 10:50:06.325981: I tensorflow/core/common_runtime/gpu/gpu_device.cc:1304] Created TensorFlow device (/job:localhost/replica:0/task:0/device:GPU:0 with 14259 MB memory) -> physical GPU (device: 0, name: Tesla T4, pci bus id: 0000:12:00.0, compute capability: 7.5)\n",
      "2023-03-11 10:50:06.327077: I tensorflow/core/common_runtime/gpu/gpu_device.cc:1304] Created TensorFlow device (/job:localhost/replica:0/task:0/device:GPU:1 with 14259 MB memory) -> physical GPU (device: 1, name: Tesla T4, pci bus id: 0000:37:00.0, compute capability: 7.5)\n",
      "2023-03-11 10:50:06.328189: I tensorflow/core/common_runtime/gpu/gpu_device.cc:1304] Created TensorFlow device (/job:localhost/replica:0/task:0/device:GPU:2 with 14259 MB memory) -> physical GPU (device: 2, name: Tesla T4, pci bus id: 0000:86:00.0, compute capability: 7.5)\n",
      "2023-03-11 10:50:06.329311: I tensorflow/core/common_runtime/gpu/gpu_device.cc:1304] Created TensorFlow device (/job:localhost/replica:0/task:0/device:GPU:3 with 14259 MB memory) -> physical GPU (device: 3, name: Tesla T4, pci bus id: 0000:af:00.0, compute capability: 7.5)\n"
     ]
    }
   ],
   "source": [
    "# Define Your Own Network\n",
    "network = models.Sequential()\n",
    "network.add(layers.Dense(512, activation=leaky_relu,input_shape=(28 * 28,)))\n",
    "network.add(layers.Dense(256, activation=leaky_relu))\n",
    "network.add(layers.Dense(128, activation=leaky_relu))\n",
    "network.add(layers.Dense(62, activation='softmax'))\n",
    "\n",
    "network.compile(optimizer='rmsprop', loss='categorical_crossentropy', metrics=['accuracy'])"
   ]
  },
  {
   "cell_type": "code",
   "execution_count": 8,
   "id": "c3c2a46e",
   "metadata": {},
   "outputs": [
    {
     "name": "stdout",
     "output_type": "stream",
     "text": [
      "Model: \"sequential\"\n",
      "_________________________________________________________________\n",
      "Layer (type)                 Output Shape              Param #   \n",
      "=================================================================\n",
      "dense (Dense)                (None, 512)               401920    \n",
      "_________________________________________________________________\n",
      "dense_1 (Dense)              (None, 256)               131328    \n",
      "_________________________________________________________________\n",
      "dense_2 (Dense)              (None, 128)               32896     \n",
      "_________________________________________________________________\n",
      "dense_3 (Dense)              (None, 62)                7998      \n",
      "=================================================================\n",
      "Total params: 574,142\n",
      "Trainable params: 574,142\n",
      "Non-trainable params: 0\n",
      "_________________________________________________________________\n"
     ]
    }
   ],
   "source": [
    "network.summary()"
   ]
  },
  {
   "cell_type": "code",
   "execution_count": 9,
   "id": "8596b87a",
   "metadata": {
    "execution": {
     "iopub.execute_input": "2022-03-07T15:41:52.460621Z",
     "iopub.status.busy": "2022-03-07T15:41:52.459846Z",
     "iopub.status.idle": "2022-03-07T15:43:18.094092Z",
     "shell.execute_reply": "2022-03-07T15:43:18.093537Z",
     "shell.execute_reply.started": "2022-03-07T15:33:55.877784Z"
    },
    "papermill": {
     "duration": 85.648922,
     "end_time": "2022-03-07T15:43:18.094238",
     "exception": false,
     "start_time": "2022-03-07T15:41:52.445316",
     "status": "completed"
    },
    "tags": []
   },
   "outputs": [
    {
     "name": "stdout",
     "output_type": "stream",
     "text": [
      "Train on 697932 samples\n",
      "Epoch 1/120\n"
     ]
    },
    {
     "name": "stderr",
     "output_type": "stream",
     "text": [
      "2023-03-11 10:50:09.130658: I tensorflow/stream_executor/platform/default/dso_loader.cc:44] Successfully opened dynamic library libcublas.so.10.0\n"
     ]
    },
    {
     "name": "stdout",
     "output_type": "stream",
     "text": [
      "697932/697932 [==============================] - 7s 11us/sample - loss: 1.5899 - accuracy: 0.5589\n",
      "Epoch 2/120\n",
      "697932/697932 [==============================] - 7s 10us/sample - loss: 0.8336 - accuracy: 0.7444\n",
      "Epoch 3/120\n",
      "697932/697932 [==============================] - 6s 9us/sample - loss: 0.6610 - accuracy: 0.7883\n",
      "Epoch 4/120\n",
      "697932/697932 [==============================] - 6s 9us/sample - loss: 0.5850 - accuracy: 0.8075\n",
      "Epoch 5/120\n",
      "697932/697932 [==============================] - 7s 9us/sample - loss: 0.5402 - accuracy: 0.8191\n",
      "Epoch 6/120\n",
      "697932/697932 [==============================] - 6s 9us/sample - loss: 0.5103 - accuracy: 0.8267\n",
      "Epoch 7/120\n",
      "697932/697932 [==============================] - 6s 9us/sample - loss: 0.4881 - accuracy: 0.8327\n",
      "Epoch 8/120\n",
      "697932/697932 [==============================] - 6s 9us/sample - loss: 0.4713 - accuracy: 0.8368\n",
      "Epoch 9/120\n",
      "697932/697932 [==============================] - 6s 9us/sample - loss: 0.4574 - accuracy: 0.8400\n",
      "Epoch 10/120\n",
      "697932/697932 [==============================] - 7s 10us/sample - loss: 0.4464 - accuracy: 0.8431\n",
      "Epoch 11/120\n",
      "697932/697932 [==============================] - 7s 9us/sample - loss: 0.4373 - accuracy: 0.8453\n",
      "Epoch 12/120\n",
      "697932/697932 [==============================] - 6s 9us/sample - loss: 0.4294 - accuracy: 0.8477\n",
      "Epoch 13/120\n",
      "697932/697932 [==============================] - 6s 9us/sample - loss: 0.4224 - accuracy: 0.8495\n",
      "Epoch 14/120\n",
      "697932/697932 [==============================] - 6s 9us/sample - loss: 0.4162 - accuracy: 0.8510\n",
      "Epoch 15/120\n",
      "697932/697932 [==============================] - 6s 9us/sample - loss: 0.4105 - accuracy: 0.8527\n",
      "Epoch 16/120\n",
      "697932/697932 [==============================] - 6s 9us/sample - loss: 0.4057 - accuracy: 0.8539\n",
      "Epoch 17/120\n",
      "697932/697932 [==============================] - 6s 9us/sample - loss: 0.4013 - accuracy: 0.8552\n",
      "Epoch 18/120\n",
      "697932/697932 [==============================] - 6s 9us/sample - loss: 0.3969 - accuracy: 0.8562\n",
      "Epoch 19/120\n",
      "697932/697932 [==============================] - 7s 9us/sample - loss: 0.3933 - accuracy: 0.8575\n",
      "Epoch 20/120\n",
      "697932/697932 [==============================] - 7s 10us/sample - loss: 0.3895 - accuracy: 0.8582\n",
      "Epoch 21/120\n",
      "697932/697932 [==============================] - 6s 9us/sample - loss: 0.3860 - accuracy: 0.8590\n",
      "Epoch 22/120\n",
      "697932/697932 [==============================] - 7s 9us/sample - loss: 0.3828 - accuracy: 0.8602\n",
      "Epoch 23/120\n",
      "697932/697932 [==============================] - 6s 9us/sample - loss: 0.3798 - accuracy: 0.8610\n",
      "Epoch 24/120\n",
      "697932/697932 [==============================] - 7s 9us/sample - loss: 0.3768 - accuracy: 0.8614\n",
      "Epoch 25/120\n",
      "697932/697932 [==============================] - 7s 10us/sample - loss: 0.3743 - accuracy: 0.8624\n",
      "Epoch 26/120\n",
      "697932/697932 [==============================] - 6s 9us/sample - loss: 0.3717 - accuracy: 0.8631\n",
      "Epoch 27/120\n",
      "697932/697932 [==============================] - 6s 9us/sample - loss: 0.3691 - accuracy: 0.8635\n",
      "Epoch 28/120\n",
      "697932/697932 [==============================] - 6s 9us/sample - loss: 0.3666 - accuracy: 0.8647\n",
      "Epoch 29/120\n",
      "697932/697932 [==============================] - 6s 9us/sample - loss: 0.3645 - accuracy: 0.8654\n",
      "Epoch 30/120\n",
      "697932/697932 [==============================] - 7s 9us/sample - loss: 0.3625 - accuracy: 0.8654\n",
      "Epoch 31/120\n",
      "697932/697932 [==============================] - 7s 10us/sample - loss: 0.3601 - accuracy: 0.8664\n",
      "Epoch 32/120\n",
      "697932/697932 [==============================] - 6s 9us/sample - loss: 0.3581 - accuracy: 0.8668\n",
      "Epoch 33/120\n",
      "697932/697932 [==============================] - 6s 9us/sample - loss: 0.3561 - accuracy: 0.8674\n",
      "Epoch 34/120\n",
      "697932/697932 [==============================] - 6s 9us/sample - loss: 0.3543 - accuracy: 0.8676\n",
      "Epoch 35/120\n",
      "697932/697932 [==============================] - 6s 9us/sample - loss: 0.3524 - accuracy: 0.8684\n",
      "Epoch 36/120\n",
      "697932/697932 [==============================] - 6s 9us/sample - loss: 0.3504 - accuracy: 0.8691\n",
      "Epoch 37/120\n",
      "697932/697932 [==============================] - 6s 9us/sample - loss: 0.3492 - accuracy: 0.8693\n",
      "Epoch 38/120\n",
      "697932/697932 [==============================] - 6s 9us/sample - loss: 0.3472 - accuracy: 0.8698\n",
      "Epoch 39/120\n",
      "697932/697932 [==============================] - 6s 9us/sample - loss: 0.3456 - accuracy: 0.8703\n",
      "Epoch 40/120\n",
      "697932/697932 [==============================] - 6s 9us/sample - loss: 0.3440 - accuracy: 0.8708\n",
      "Epoch 41/120\n",
      "697932/697932 [==============================] - 6s 9us/sample - loss: 0.3429 - accuracy: 0.8710\n",
      "Epoch 42/120\n",
      "697932/697932 [==============================] - 7s 10us/sample - loss: 0.3411 - accuracy: 0.8714\n",
      "Epoch 43/120\n",
      "697932/697932 [==============================] - 7s 10us/sample - loss: 0.3394 - accuracy: 0.8720\n",
      "Epoch 44/120\n",
      "697932/697932 [==============================] - 6s 9us/sample - loss: 0.3383 - accuracy: 0.8722\n",
      "Epoch 45/120\n",
      "697932/697932 [==============================] - 7s 9us/sample - loss: 0.3367 - accuracy: 0.8727\n",
      "Epoch 46/120\n",
      "697932/697932 [==============================] - 7s 9us/sample - loss: 0.3350 - accuracy: 0.8734\n",
      "Epoch 47/120\n",
      "697932/697932 [==============================] - 6s 9us/sample - loss: 0.3341 - accuracy: 0.8730\n",
      "Epoch 48/120\n",
      "697932/697932 [==============================] - 7s 9us/sample - loss: 0.3325 - accuracy: 0.8740\n",
      "Epoch 49/120\n",
      "697932/697932 [==============================] - 6s 9us/sample - loss: 0.3310 - accuracy: 0.8743\n",
      "Epoch 50/120\n",
      "697932/697932 [==============================] - 6s 9us/sample - loss: 0.3302 - accuracy: 0.8742\n",
      "Epoch 51/120\n",
      "697932/697932 [==============================] - 6s 9us/sample - loss: 0.3286 - accuracy: 0.8750\n",
      "Epoch 52/120\n",
      "697932/697932 [==============================] - 6s 9us/sample - loss: 0.3273 - accuracy: 0.8751\n",
      "Epoch 53/120\n",
      "697932/697932 [==============================] - 6s 9us/sample - loss: 0.3259 - accuracy: 0.8755\n",
      "Epoch 54/120\n",
      "697932/697932 [==============================] - 7s 10us/sample - loss: 0.3249 - accuracy: 0.8759\n",
      "Epoch 55/120\n",
      "697932/697932 [==============================] - 7s 9us/sample - loss: 0.3236 - accuracy: 0.8764\n",
      "Epoch 56/120\n",
      "697932/697932 [==============================] - 6s 9us/sample - loss: 0.3224 - accuracy: 0.8766\n",
      "Epoch 57/120\n",
      "697932/697932 [==============================] - 6s 9us/sample - loss: 0.3213 - accuracy: 0.8769\n",
      "Epoch 58/120\n",
      "697932/697932 [==============================] - 7s 9us/sample - loss: 0.3203 - accuracy: 0.8773\n",
      "Epoch 59/120\n",
      "697932/697932 [==============================] - 6s 9us/sample - loss: 0.3190 - accuracy: 0.8777\n",
      "Epoch 60/120\n",
      "697932/697932 [==============================] - 7s 9us/sample - loss: 0.3180 - accuracy: 0.8777\n",
      "Epoch 61/120\n",
      "697932/697932 [==============================] - 7s 9us/sample - loss: 0.3172 - accuracy: 0.8782\n",
      "Epoch 62/120\n",
      "697932/697932 [==============================] - 7s 10us/sample - loss: 0.3159 - accuracy: 0.8786\n",
      "Epoch 63/120\n",
      "697932/697932 [==============================] - 6s 9us/sample - loss: 0.3146 - accuracy: 0.8784\n",
      "Epoch 64/120\n",
      "697932/697932 [==============================] - 6s 9us/sample - loss: 0.3139 - accuracy: 0.8788\n",
      "Epoch 65/120\n",
      "697932/697932 [==============================] - 7s 9us/sample - loss: 0.3126 - accuracy: 0.8793\n",
      "Epoch 66/120\n",
      "697932/697932 [==============================] - 7s 10us/sample - loss: 0.3116 - accuracy: 0.8798\n",
      "Epoch 67/120\n",
      "697932/697932 [==============================] - 6s 9us/sample - loss: 0.3107 - accuracy: 0.8801\n",
      "Epoch 68/120\n",
      "697932/697932 [==============================] - 6s 9us/sample - loss: 0.3096 - accuracy: 0.8803\n",
      "Epoch 69/120\n",
      "697932/697932 [==============================] - 6s 9us/sample - loss: 0.3088 - accuracy: 0.8805\n",
      "Epoch 70/120\n",
      "697932/697932 [==============================] - 7s 9us/sample - loss: 0.3073 - accuracy: 0.8811\n",
      "Epoch 71/120\n",
      "697932/697932 [==============================] - 7s 9us/sample - loss: 0.3070 - accuracy: 0.8811\n",
      "Epoch 72/120\n",
      "697932/697932 [==============================] - 6s 9us/sample - loss: 0.3058 - accuracy: 0.8814\n",
      "Epoch 73/120\n",
      "697932/697932 [==============================] - 6s 9us/sample - loss: 0.3047 - accuracy: 0.8815\n",
      "Epoch 74/120\n",
      "697932/697932 [==============================] - 7s 10us/sample - loss: 0.3037 - accuracy: 0.8822\n",
      "Epoch 75/120\n",
      "697932/697932 [==============================] - 6s 9us/sample - loss: 0.3029 - accuracy: 0.8822\n",
      "Epoch 76/120\n",
      "697932/697932 [==============================] - 6s 9us/sample - loss: 0.3017 - accuracy: 0.8824\n",
      "Epoch 77/120\n",
      "697932/697932 [==============================] - 6s 9us/sample - loss: 0.3010 - accuracy: 0.8827\n",
      "Epoch 78/120\n",
      "697932/697932 [==============================] - 7s 9us/sample - loss: 0.3001 - accuracy: 0.8829\n",
      "Epoch 79/120\n",
      "697932/697932 [==============================] - 6s 9us/sample - loss: 0.2989 - accuracy: 0.8837\n",
      "Epoch 80/120\n",
      "697932/697932 [==============================] - 7s 9us/sample - loss: 0.2982 - accuracy: 0.8836\n",
      "Epoch 81/120\n",
      "697932/697932 [==============================] - 7s 10us/sample - loss: 0.2974 - accuracy: 0.8842\n",
      "Epoch 82/120\n",
      "697932/697932 [==============================] - 6s 9us/sample - loss: 0.2965 - accuracy: 0.8842\n",
      "Epoch 83/120\n",
      "697932/697932 [==============================] - 7s 9us/sample - loss: 0.2957 - accuracy: 0.8846\n",
      "Epoch 84/120\n",
      "697932/697932 [==============================] - 7s 9us/sample - loss: 0.2946 - accuracy: 0.8848\n",
      "Epoch 85/120\n",
      "697932/697932 [==============================] - 7s 10us/sample - loss: 0.2934 - accuracy: 0.8850\n",
      "Epoch 86/120\n",
      "697932/697932 [==============================] - 6s 9us/sample - loss: 0.2931 - accuracy: 0.8853\n",
      "Epoch 87/120\n",
      "697932/697932 [==============================] - 7s 9us/sample - loss: 0.2918 - accuracy: 0.8857\n",
      "Epoch 88/120\n",
      "697932/697932 [==============================] - 6s 9us/sample - loss: 0.2914 - accuracy: 0.8860\n",
      "Epoch 89/120\n",
      "697932/697932 [==============================] - 7s 10us/sample - loss: 0.2904 - accuracy: 0.8860\n",
      "Epoch 90/120\n",
      "697932/697932 [==============================] - 6s 9us/sample - loss: 0.2893 - accuracy: 0.8863\n",
      "Epoch 91/120\n",
      "697932/697932 [==============================] - 7s 9us/sample - loss: 0.2889 - accuracy: 0.8867\n",
      "Epoch 92/120\n",
      "697932/697932 [==============================] - 6s 9us/sample - loss: 0.2878 - accuracy: 0.8869\n",
      "Epoch 93/120\n",
      "697932/697932 [==============================] - 7s 10us/sample - loss: 0.2872 - accuracy: 0.8872\n",
      "Epoch 94/120\n",
      "697932/697932 [==============================] - 7s 9us/sample - loss: 0.2867 - accuracy: 0.8874\n",
      "Epoch 95/120\n",
      "697932/697932 [==============================] - 7s 9us/sample - loss: 0.2856 - accuracy: 0.8876\n",
      "Epoch 96/120\n",
      "697932/697932 [==============================] - 6s 9us/sample - loss: 0.2845 - accuracy: 0.8880\n",
      "Epoch 97/120\n",
      "697932/697932 [==============================] - 6s 9us/sample - loss: 0.2844 - accuracy: 0.8882\n",
      "Epoch 98/120\n",
      "697932/697932 [==============================] - 6s 9us/sample - loss: 0.2835 - accuracy: 0.8884\n",
      "Epoch 99/120\n",
      "697932/697932 [==============================] - 7s 10us/sample - loss: 0.2826 - accuracy: 0.8885\n",
      "Epoch 100/120\n",
      "697932/697932 [==============================] - 6s 9us/sample - loss: 0.2819 - accuracy: 0.8889\n",
      "Epoch 101/120\n",
      "697932/697932 [==============================] - 7s 10us/sample - loss: 0.2813 - accuracy: 0.8892\n",
      "Epoch 102/120\n",
      "697932/697932 [==============================] - 6s 9us/sample - loss: 0.2801 - accuracy: 0.8897\n",
      "Epoch 103/120\n",
      "697932/697932 [==============================] - 6s 9us/sample - loss: 0.2793 - accuracy: 0.8898\n",
      "Epoch 104/120\n",
      "697932/697932 [==============================] - 6s 9us/sample - loss: 0.2786 - accuracy: 0.8896\n",
      "Epoch 105/120\n",
      "697932/697932 [==============================] - 7s 9us/sample - loss: 0.2781 - accuracy: 0.8900\n",
      "Epoch 106/120\n",
      "697932/697932 [==============================] - 7s 10us/sample - loss: 0.2774 - accuracy: 0.8905\n",
      "Epoch 107/120\n",
      "697932/697932 [==============================] - 6s 9us/sample - loss: 0.2763 - accuracy: 0.8905\n",
      "Epoch 108/120\n",
      "697932/697932 [==============================] - 6s 9us/sample - loss: 0.2759 - accuracy: 0.8906\n",
      "Epoch 109/120\n",
      "697932/697932 [==============================] - 6s 9us/sample - loss: 0.2751 - accuracy: 0.8911\n",
      "Epoch 110/120\n",
      "697932/697932 [==============================] - 7s 10us/sample - loss: 0.2745 - accuracy: 0.8912\n",
      "Epoch 111/120\n",
      "697932/697932 [==============================] - 7s 10us/sample - loss: 0.2737 - accuracy: 0.8915\n",
      "Epoch 112/120\n",
      "697932/697932 [==============================] - 6s 9us/sample - loss: 0.2727 - accuracy: 0.8919\n",
      "Epoch 113/120\n",
      "697932/697932 [==============================] - 6s 9us/sample - loss: 0.2721 - accuracy: 0.8920\n",
      "Epoch 114/120\n",
      "697932/697932 [==============================] - 6s 9us/sample - loss: 0.2718 - accuracy: 0.8922\n",
      "Epoch 115/120\n",
      "697932/697932 [==============================] - 7s 9us/sample - loss: 0.2706 - accuracy: 0.8923\n",
      "Epoch 116/120\n",
      "697932/697932 [==============================] - 7s 9us/sample - loss: 0.2703 - accuracy: 0.8929\n",
      "Epoch 117/120\n",
      "697932/697932 [==============================] - 6s 9us/sample - loss: 0.2694 - accuracy: 0.8933\n",
      "Epoch 118/120\n",
      "697932/697932 [==============================] - 7s 10us/sample - loss: 0.2691 - accuracy: 0.8930\n",
      "Epoch 119/120\n",
      "697932/697932 [==============================] - 6s 9us/sample - loss: 0.2686 - accuracy: 0.8933\n",
      "Epoch 120/120\n",
      "697932/697932 [==============================] - 7s 9us/sample - loss: 0.2676 - accuracy: 0.8940\n"
     ]
    },
    {
     "data": {
      "text/plain": [
       "<tensorflow.python.keras.callbacks.History at 0x7ff8087514a8>"
      ]
     },
     "execution_count": 9,
     "metadata": {},
     "output_type": "execute_result"
    }
   ],
   "source": [
    "network.fit(trn_images, trn_labels, epochs=120, batch_size=512)"
   ]
  },
  {
   "cell_type": "code",
   "execution_count": 10,
   "id": "bb35516b",
   "metadata": {
    "execution": {
     "iopub.execute_input": "2022-03-07T15:43:19.073970Z",
     "iopub.status.busy": "2022-03-07T15:43:19.073365Z",
     "iopub.status.idle": "2022-03-07T15:43:20.974755Z",
     "shell.execute_reply": "2022-03-07T15:43:20.974212Z",
     "shell.execute_reply.started": "2022-03-07T15:35:19.794635Z"
    },
    "papermill": {
     "duration": 2.39167,
     "end_time": "2022-03-07T15:43:20.974939",
     "exception": false,
     "start_time": "2022-03-07T15:43:18.583269",
     "status": "completed"
    },
    "tags": []
   },
   "outputs": [],
   "source": [
    "# Evalute our model on test data\n",
    "test_images = np.load(TEST_DATA_FILE)['testing_images']"
   ]
  },
  {
   "cell_type": "code",
   "execution_count": 11,
   "id": "a1b524ed",
   "metadata": {
    "execution": {
     "iopub.execute_input": "2022-03-07T15:43:21.951814Z",
     "iopub.status.busy": "2022-03-07T15:43:21.950550Z",
     "iopub.status.idle": "2022-03-07T15:43:22.113643Z",
     "shell.execute_reply": "2022-03-07T15:43:22.113123Z",
     "shell.execute_reply.started": "2022-03-07T15:35:21.614121Z"
    },
    "papermill": {
     "duration": 0.65164,
     "end_time": "2022-03-07T15:43:22.113798",
     "exception": false,
     "start_time": "2022-03-07T15:43:21.462158",
     "status": "completed"
    },
    "tags": []
   },
   "outputs": [],
   "source": [
    "tst_images = test_images.reshape((test_images.shape[0], 28 * 28))\n",
    "tst_images = tst_images.astype('float32') / 255"
   ]
  },
  {
   "cell_type": "code",
   "execution_count": 12,
   "id": "98eaea96",
   "metadata": {
    "execution": {
     "iopub.execute_input": "2022-03-07T15:43:23.115150Z",
     "iopub.status.busy": "2022-03-07T15:43:23.114238Z",
     "iopub.status.idle": "2022-03-07T15:43:28.945246Z",
     "shell.execute_reply": "2022-03-07T15:43:28.944799Z",
     "shell.execute_reply.started": "2022-03-07T15:39:44.016216Z"
    },
    "papermill": {
     "duration": 6.349545,
     "end_time": "2022-03-07T15:43:28.945372",
     "exception": false,
     "start_time": "2022-03-07T15:43:22.595827",
     "status": "completed"
    },
    "tags": []
   },
   "outputs": [
    {
     "data": {
      "text/plain": [
       "array([ 1, 36, 24, ..., 55, 28, 24])"
      ]
     },
     "execution_count": 12,
     "metadata": {},
     "output_type": "execute_result"
    }
   ],
   "source": [
    "# Print the predicted classes of test images\n",
    "results = network.predict(tst_images).argmax(axis=-1)\n",
    "results"
   ]
  },
  {
   "cell_type": "code",
   "execution_count": 13,
   "id": "a6d7daf7",
   "metadata": {
    "execution": {
     "iopub.execute_input": "2022-03-07T15:43:29.919370Z",
     "iopub.status.busy": "2022-03-07T15:43:29.918549Z",
     "iopub.status.idle": "2022-03-07T15:43:30.108163Z",
     "shell.execute_reply": "2022-03-07T15:43:30.107649Z",
     "shell.execute_reply.started": "2022-03-07T15:39:53.786265Z"
    },
    "papermill": {
     "duration": 0.677703,
     "end_time": "2022-03-07T15:43:30.108300",
     "exception": false,
     "start_time": "2022-03-07T15:43:29.430597",
     "status": "completed"
    },
    "tags": []
   },
   "outputs": [],
   "source": [
    "# Print results in CSV format and upload to Kaggle\n",
    "with open('pred_results.csv', 'w') as f:\n",
    "    f.write('Id,Category\\n')\n",
    "    for i in range(len(results)):\n",
    "        f.write(str(i) + ',' + str(results[i]) + '\\n')"
   ]
  },
  {
   "cell_type": "code",
   "execution_count": 14,
   "id": "fa91ecca",
   "metadata": {
    "execution": {
     "iopub.execute_input": "2022-03-07T15:43:31.091213Z",
     "iopub.status.busy": "2022-03-07T15:43:31.090405Z",
     "iopub.status.idle": "2022-03-07T15:43:31.093179Z",
     "shell.execute_reply": "2022-03-07T15:43:31.093571Z",
     "shell.execute_reply.started": "2022-03-07T15:40:01.975363Z"
    },
    "papermill": {
     "duration": 0.495647,
     "end_time": "2022-03-07T15:43:31.093704",
     "exception": false,
     "start_time": "2022-03-07T15:43:30.598057",
     "status": "completed"
    },
    "tags": []
   },
   "outputs": [
    {
     "data": {
      "text/html": [
       "<a href='pred_results.csv' target='_blank'>pred_results.csv</a><br>"
      ],
      "text/plain": [
       "/home/user/Documents/yude/DL/hw/pred_results.csv"
      ]
     },
     "execution_count": 14,
     "metadata": {},
     "output_type": "execute_result"
    }
   ],
   "source": [
    "# Download your results!\n",
    "from IPython.display import FileLink\n",
    "FileLink('pred_results.csv')"
   ]
  }
 ],
 "metadata": {
  "kernelspec": {
   "display_name": "Python 3.7.0 ('YunTi')",
   "language": "python",
   "name": "python3"
  },
  "language_info": {
   "codemirror_mode": {
    "name": "ipython",
    "version": 3
   },
   "file_extension": ".py",
   "mimetype": "text/x-python",
   "name": "python",
   "nbconvert_exporter": "python",
   "pygments_lexer": "ipython3",
   "version": "3.7.0"
  },
  "papermill": {
   "default_parameters": {},
   "duration": 129.430486,
   "end_time": "2022-03-07T15:43:34.618609",
   "environment_variables": {},
   "exception": null,
   "input_path": "__notebook__.ipynb",
   "output_path": "__notebook__.ipynb",
   "parameters": {},
   "start_time": "2022-03-07T15:41:25.188123",
   "version": "2.3.3"
  },
  "vscode": {
   "interpreter": {
    "hash": "dcf4917985732fd81cfc14902eeccd1c74ea41006ff3e9fd2ee7c91f81ce13f4"
   }
  }
 },
 "nbformat": 4,
 "nbformat_minor": 5
}
